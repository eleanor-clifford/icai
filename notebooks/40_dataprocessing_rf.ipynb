{
 "cells": [
  {
   "cell_type": "code",
   "execution_count": 105,
   "metadata": {},
   "outputs": [],
   "source": [
    "import pathlib\n",
    "import ast\n",
    "import pandas as pd\n",
    "\n",
    "from inverse_cai.app.loader import load_json_file\n",
    "\n",
    "\n",
    "def create_votes_df(results_dir: pathlib.Path) -> list[dict]:\n",
    "\n",
    "    # load relevant data from experiment logs\n",
    "    votes_per_comparison = pd.read_csv(\n",
    "        results_dir / \"040_votes_per_comparison.csv\", index_col=\"index\"\n",
    "    )\n",
    "    votes_per_comparison[\"votes_dicts\"] = votes_per_comparison[\"votes\"].apply(ast.literal_eval)\n",
    "    # add single votes_dicts per comparison_id\n",
    "    votes_per_comparison[\"original_index\"] = votes_per_comparison.index\n",
    "\n",
    "    # create a single list of dicts per comparison_id\n",
    "    votes_per_comparison = votes_per_comparison.groupby(\"original_index\")[\"votes_dicts\"].apply(list).reset_index(name=\"votes_dicts\")\n",
    "\n",
    "    # compile list of dicts into a single dict\n",
    "    votes_per_comparison[\"votes_dicts\"] = votes_per_comparison[\"votes_dicts\"].apply(lambda x: {k: v for d in list(x) for k, v in d.items()})\n",
    "\n",
    "    principles_by_id: dict = load_json_file(\n",
    "        results_dir / \"030_distilled_principles_per_cluster.json\",\n",
    "    )\n",
    "    comparison_df = pd.read_csv(results_dir / \"000_train_data.csv\", index_col=\"index\")\n",
    "\n",
    "    # merge original comparison data with votes per comparison\n",
    "    full_df = comparison_df.merge(\n",
    "        votes_per_comparison, left_index=True, right_on=\"original_index\"\n",
    "    )\n",
    "    full_df[\"comparison_id\"] = full_df.index\n",
    "\n",
    "\n",
    "    new_cols = {}\n",
    "\n",
    "    def make_vote_numeric(vote: bool | None) -> int:\n",
    "        if vote is True:\n",
    "            return 1\n",
    "        elif vote is False:\n",
    "            return -1\n",
    "        elif vote is None:\n",
    "            return 0\n",
    "        else:\n",
    "            raise ValueError(f\"Invalid vote value: {vote}\")\n",
    "\n",
    "    # add one column for each principle vote\n",
    "    for principle_id in principles_by_id.keys():\n",
    "        new_cols[f\"vote_principle_{principle_id}\"] = full_df[\"votes_dicts\"].apply(\n",
    "            lambda x: make_vote_numeric(x.get(int(principle_id), None))\n",
    "        )\n",
    "\n",
    "    full_df = pd.concat([full_df, pd.DataFrame(new_cols)], axis=1)\n",
    "\n",
    "    return full_df"
   ]
  },
  {
   "cell_type": "code",
   "execution_count": null,
   "metadata": {},
   "outputs": [],
   "source": [
    "df = create_votes_df(pathlib.Path(\"../exp/outputs/prism_v2/results\"))"
   ]
  },
  {
   "cell_type": "code",
   "execution_count": 104,
   "metadata": {},
   "outputs": [],
   "source": [
    "\n",
    "shared_subset = df[:4000]\n",
    "shared_subset.to_csv(\"../data/experimental/prism_v2_4k_shared_subset.csv\", index=False)\n",
    "\n",
    "non_shared_subset = df[4000:]\n",
    "non_shared_subset.to_csv(\"../data/experimental/prism_v2_non_shared_subset.csv\", index=False)\n"
   ]
  },
  {
   "cell_type": "code",
   "execution_count": null,
   "metadata": {},
   "outputs": [],
   "source": []
  }
 ],
 "metadata": {
  "kernelspec": {
   "display_name": "Python 3",
   "language": "python",
   "name": "python3"
  },
  "language_info": {
   "codemirror_mode": {
    "name": "ipython",
    "version": 3
   },
   "file_extension": ".py",
   "mimetype": "text/x-python",
   "name": "python",
   "nbconvert_exporter": "python",
   "pygments_lexer": "ipython3",
   "version": "3.11.10"
  }
 },
 "nbformat": 4,
 "nbformat_minor": 2
}
