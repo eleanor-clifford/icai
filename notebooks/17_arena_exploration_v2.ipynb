{
 "cells": [
  {
   "cell_type": "code",
   "execution_count": null,
   "metadata": {},
   "outputs": [],
   "source": [
    "import pandas as pd\n",
    "import numpy as np\n",
    "import ast\n",
    "\n",
    "df = pd.read_csv(\"../data/raw/lmsys/chatbot_arena_kaggle2024_train.csv\")\n",
    "\n",
    "print(f\"Original dataset size: {len(df)}\")\n",
    "\n",
    "# get sum of all appearances of each model\n",
    "vc_a = df[\"model_a\"].value_counts()\n",
    "vc_b = df[\"model_b\"].value_counts()\n",
    "combined_vc = pd.concat([vc_a, vc_b]).groupby(level=0).sum()\n",
    "combined_vc = combined_vc.sort_values(ascending=False)\n",
    "print(\"Model counts (appearances as either model A or B):\")\n",
    "pd.set_option('display.max_rows', None)\n",
    "print(combined_vc)\n",
    "pd.reset_option('display.max_rows')\n",
    "\n",
    "# select datapoints with subset of models\n",
    "model_list = ['gpt-4-1106-preview', 'gpt-3.5-turbo-0613', 'claude-2.1', 'claude-2.0','gpt-4-0314', 'llama-2-70b-chat', 'llama-2-13b-chat', 'llama-2-7b-chat', 'mixtral-8x7b-instruct-v0.1', \"gpt-4-0613\"]\n",
    "df = df[df['model_a'].isin(model_list) & df['model_b'].isin(model_list)]\n",
    "\n",
    "# remove ties\n",
    "df = df[df['winner_tie'] == 0]\n",
    "\n",
    "# get number of prompts and responses per model\n",
    "def convert_to_list(list_str):\n",
    "    try:\n",
    "        return ast.literal_eval(list_str)\n",
    "    except:\n",
    "        print(\"Error parsing:\", list_str)\n",
    "        return []\n",
    "\n",
    "for col in [\"prompt\", \"response_a\", \"response_b\"]:\n",
    "    df[col] = df[col].apply(convert_to_list)\n",
    "    df[col + \"_length\"] = df[col].apply(len)\n",
    "    df[col] = df[col].apply(lambda x: x[0] if len(x) > 0 else None)\n",
    "\n",
    "# filter out row with either prompt/response_a/response_b being len more than 1\n",
    "df = df[(df[\"prompt_length\"] == 1) & (df[\"response_a_length\"] == 1) & (df[\"response_b_length\"] == 1)]\n",
    "\n",
    "# add winner_model and loser_model columns\n",
    "df['winner_model'] = df.apply(lambda x: x['model_a'] if x['winner_model_a'] == 1 else x['model_b'], axis=1)\n",
    "df['loser_model'] = df.apply(lambda x: x['model_a'] if x['winner_model_a'] == 0 else x['model_b'], axis=1)\n",
    "\n",
    "# check if each col of prompt, response_a, response_b is encodable in utf-8\n",
    "# drop rows that are not encodable\n",
    "for col in [\"prompt\", \"response_a\", \"response_b\"]:\n",
    "    for i, row in df.iterrows():\n",
    "        try:\n",
    "            row[col].encode(\"utf-8\")\n",
    "        except:\n",
    "            df.drop(i, inplace=True)\n"
   ]
  },
  {
   "cell_type": "code",
   "execution_count": null,
   "metadata": {},
   "outputs": [],
   "source": [
    "df[\"winner_model\"].value_counts()"
   ]
  },
  {
   "cell_type": "code",
   "execution_count": null,
   "metadata": {},
   "outputs": [],
   "source": [
    "df[\"loser_model\"].value_counts()"
   ]
  },
  {
   "cell_type": "code",
   "execution_count": null,
   "metadata": {},
   "outputs": [],
   "source": [
    "len(df)"
   ]
  },
  {
   "cell_type": "code",
   "execution_count": 5,
   "metadata": {},
   "outputs": [],
   "source": [
    "# subselect 2k samples\n",
    "# set random seed\n",
    "#df_final = df.sample(2000, random_state=42)\n",
    "df_final = df\n"
   ]
  },
  {
   "cell_type": "code",
   "execution_count": 6,
   "metadata": {},
   "outputs": [],
   "source": [
    "import ast\n",
    "\n",
    "#df_final = df_final.rename(columns={\"response_a\": \"text_a\", \"response_b\": \"text_b\"})\n",
    "df_final[\"text_a\"] = df_final[\"response_a\"]\n",
    "df_final[\"text_b\"] = df_final[\"response_b\"]\n",
    "df_final[\"preferred_text\"] = df_final.apply(lambda x: \"text_a\" if x[\"winner_model_a\"] == 1 else \"text_b\", axis=1)\n",
    "\n",
    "# format into correct text\n",
    "# prepend instruction column to both text_a and text_b\n",
    "for col in [\"text_a\", \"text_b\"]:\n",
    "    df_final[col] = \"Instruction:\\n\" + df_final[\"prompt\"] + \"\\n\\n\\nAssistant:\\n\" + df_final[col]\n",
    "\n",
    "# shuffle\n",
    "df_final: pd.DataFrame = df_final.sample(frac=1, random_state=42)\n",
    "\n",
    "df_final.to_csv(\"../data/processed/lmsys/chatbot_arena_kaggle2024_train_5615random_v2.csv\", index=False)"
   ]
  },
  {
   "cell_type": "code",
   "execution_count": null,
   "metadata": {},
   "outputs": [],
   "source": []
  }
 ],
 "metadata": {
  "kernelspec": {
   "display_name": "Python 3",
   "language": "python",
   "name": "python3"
  },
  "language_info": {
   "codemirror_mode": {
    "name": "ipython",
    "version": 3
   },
   "file_extension": ".py",
   "mimetype": "text/x-python",
   "name": "python",
   "nbconvert_exporter": "python",
   "pygments_lexer": "ipython3",
   "version": "3.11.10"
  }
 },
 "nbformat": 4,
 "nbformat_minor": 2
}
