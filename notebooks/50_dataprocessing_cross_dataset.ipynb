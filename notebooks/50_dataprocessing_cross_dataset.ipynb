{
 "cells": [
  {
   "cell_type": "code",
   "execution_count": 2,
   "metadata": {},
   "outputs": [],
   "source": [
    "# get AlpacaEval, Chatbot Arena and PRISM data\n",
    "\n",
    "import pandas as pd\n",
    "\n",
    "df_alpacaeval = pd.read_csv(\"../data/processed/tatsu_lab/alpacaeval_goldcrossannotations_rand.csv\")\n",
    "df_chatbotarena = pd.read_csv(\"../data/processed/lmsys/chatbot_arena_kaggle2024_train_2krandom.csv\")\n",
    "df_prism = pd.read_csv(\"../data/processed/prism/prism_rand2000_incl_metadata_v2.csv\")\n",
    "\n",
    "# add column for dataset name\n",
    "df_alpacaeval[\"dataset\"] = \"alpacaeval\"\n",
    "df_chatbotarena[\"dataset\"] = \"chatbotarena\"\n",
    "df_prism[\"dataset\"] = \"prism\"\n",
    "\n",
    "# sample 648 rows from each dataset\n",
    "df_alpacaeval = df_alpacaeval.sample(648, random_state=42)\n",
    "df_chatbotarena = df_chatbotarena.sample(648, random_state=42)\n",
    "df_prism = df_prism.sample(648, random_state=42)\n",
    "\n",
    "# concatenate\n",
    "df_final = pd.concat([df_alpacaeval, df_chatbotarena, df_prism])\n",
    "\n",
    "# save\n",
    "df_final.to_csv(\"../data/processed/combined/alpacaeval_chatbotarena_prism_648.csv\", index=False)"
   ]
  },
  {
   "cell_type": "code",
   "execution_count": null,
   "metadata": {},
   "outputs": [],
   "source": []
  }
 ],
 "metadata": {
  "kernelspec": {
   "display_name": "Python 3",
   "language": "python",
   "name": "python3"
  },
  "language_info": {
   "codemirror_mode": {
    "name": "ipython",
    "version": 3
   },
   "file_extension": ".py",
   "mimetype": "text/x-python",
   "name": "python",
   "nbconvert_exporter": "python",
   "pygments_lexer": "ipython3",
   "version": "3.11.10"
  }
 },
 "nbformat": 4,
 "nbformat_minor": 2
}
